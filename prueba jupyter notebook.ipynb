{
 "cells": [
  {
   "cell_type": "markdown",
   "id": "c09612fb",
   "metadata": {},
   "source": [
    "#Grafico de dispersión simple"
   ]
  },
  {
   "cell_type": "code",
   "execution_count": null,
   "id": "42c5dd35",
   "metadata": {},
   "outputs": [],
   "source": [
    "import matplotlib.pyplot as plt\n",
    "\n",
    "# Datos de ejemplo\n",
    "x = [1, 2, 3, 4, 5]\n",
    "y = [2, 4, 1, 3, 7]\n",
    "\n",
    "# Crear gráfico de dispersión\n",
    "plt.scatter(x, y)\n",
    "\n",
    "# Añadir títulos y etiquetas\n",
    "plt.title(\"Gráfico de Dispersión Simple\")\n",
    "plt.xlabel(\"Eje X\")\n",
    "plt.ylabel(\"Eje Y\")\n",
    "\n",
    "# Mostrar gráfico\n",
    "plt.show()"
   ]
  },
  {
   "cell_type": "code",
   "execution_count": null,
   "id": "5ee49157",
   "metadata": {},
   "outputs": [],
   "source": []
  }
 ],
 "metadata": {
  "language_info": {
   "name": "python"
  }
 },
 "nbformat": 4,
 "nbformat_minor": 5
}
